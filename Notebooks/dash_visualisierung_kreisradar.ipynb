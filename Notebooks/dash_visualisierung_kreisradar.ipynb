{
 "cells": [
  {
   "cell_type": "code",
   "execution_count": 1,
   "metadata": {},
   "outputs": [],
   "source": [
    "import pandas as pd\n",
    "import numpy as np\n",
    "import dash\n",
    "import plotly\n",
    "import pickle\n",
    "import math\n",
    "import dash_core_components as dcc\n",
    "import dash_html_components as html\n",
    "import plotly.graph_objects as go"
   ]
  },
  {
   "cell_type": "code",
   "execution_count": 2,
   "metadata": {},
   "outputs": [],
   "source": [
    "sdg_text=['No Poverty',\n",
    "        'Zero Hunger', \n",
    "        'Good Health and Well-being',\n",
    "        'Quality Education', \n",
    "        'Gender Equality', \n",
    "        'Clean Water and Sanitation', \n",
    "        'Affordable and Clean Energy', \n",
    "        'Decent Work and Economic Growth', \n",
    "        'Industry, Innovation and Infrastructure', \n",
    "        'Reduced Inequality', \n",
    "        'Sustainable Cities and Communities', \n",
    "        'Responsible Consumption and Production', \n",
    "        'Climate Action', \n",
    "        'Life Below Water', \n",
    "        'Life on Land', \n",
    "        'Peace and Justice Strong Institutions', \n",
    "        'Partnerships to achieve the Goal' ]\n",
    "\n",
    "sdg_color=['rgb(229, 36, 59)',\n",
    "            'rgb(221, 166, 58)',\n",
    "            'rgb(76, 159, 56)',\n",
    "            'rgb(197, 25, 45)',\n",
    "            'rgb(255, 58, 33)',\n",
    "            'rgb(38, 189, 226)',\n",
    "            'rgb(252, 195, 11)',\n",
    "            'rgb(162, 25, 66)',\n",
    "            'rgb(253, 105, 37)',\n",
    "            'rgb(221, 19, 103)',\n",
    "            'rgb(253, 157, 36)',\n",
    "            'rgb(191, 139, 46)',\n",
    "            'rgb(63, 126, 68)',\n",
    "            'rgb(10, 151, 217)',\n",
    "            'rgb(86, 192, 43)',\n",
    "            'rgb(0, 104, 157)',\n",
    "            'rgb(25, 72, 106)' ]"
   ]
  },
  {
   "cell_type": "code",
   "execution_count": 4,
   "metadata": {},
   "outputs": [],
   "source": [
    "data = pd.read_pickle('kfw-prototyp/Data/data.pkl')\n",
    "data = data.fillna(0)\n",
    "sums = data.iloc[: ,1:188].apply(sum, axis = 0)\n",
    "sums_df = pd. DataFrame(sums).T\n",
    "\n",
    "sdgs = []\n",
    "\n",
    "for col in sums_df.columns:\n",
    "    if 'SDG' in str(col):\n",
    "        sdgs.append(col)\n",
    "\n",
    "sdg = sums_df[sdgs]\n",
    "\n",
    "sdg_sums = (sdg.T).rename(columns={0: 'sum'})"
   ]
  },
  {
   "cell_type": "code",
   "execution_count": 5,
   "metadata": {},
   "outputs": [],
   "source": [
    "def mapping(x):\n",
    "    y = []\n",
    "    for i in list(x):\n",
    "        if i == x.max():\n",
    "            i=100\n",
    "        else:\n",
    "            i=round(i/x.max()*100,2)\n",
    "        y.append(i)\n",
    "    return y"
   ]
  },
  {
   "cell_type": "code",
   "execution_count": 7,
   "metadata": {},
   "outputs": [],
   "source": [
    "sdg_sums['mapping'] = mapping(sdg_sums['sum'])\n",
    "values = sdg_sums['mapping']\n",
    "df = sdg_sums"
   ]
  },
  {
   "cell_type": "code",
   "execution_count": 8,
   "metadata": {},
   "outputs": [],
   "source": [
    "# Get incremental angle value\n",
    "n = len(df) + 20\n",
    "dtheta = 2*math.pi / n\n",
    "theta = math.pi / 2\n",
    "\n",
    "# Initialise\n",
    "xcoord = []\n",
    "ycoord = []"
   ]
  },
  {
   "cell_type": "code",
   "execution_count": 9,
   "metadata": {},
   "outputs": [],
   "source": [
    "# This is for the white - circle in the middle\n",
    "adjust =  20\n",
    "traces = []\n",
    "\n",
    "\n",
    "for i in range(len(df)):\n",
    "    \n",
    "    a = df.mapping[i] + adjust\n",
    "    x1 = adjust * math.cos(theta)\n",
    "    y1 = adjust * math.sin(theta)\n",
    "  \n",
    "    x2 = a * math.cos(theta)\n",
    "    y2 = a * math.sin(theta)\n",
    "  \n",
    "    xcoord.append(x1)\n",
    "    xcoord.append(x2)\n",
    "    xcoord.append(np.nan)\n",
    "    ycoord.append(y1)\n",
    "    ycoord.append(y2)\n",
    "    ycoord.append(np.nan)\n",
    "    #cols = [cols, df$Continent[ctr], df$Continent[ctr], NA)\n",
    "  \n",
    "    theta = theta + dtheta\n",
    "  \n",
    "    traces.append(go.Scatter(x = [x1, x2],\n",
    "                 y = [y1, y2],\n",
    "                 mode = \"lines\", \n",
    "                 name = sdg_text[i],\n",
    "                 line = dict(width = 10, color = sdg_color[i])\n",
    "                                ))\n",
    "    \n",
    "\n",
    "up = np.array([x for x in xcoord if str(x) != 'nan']+[x for x in ycoord if str(x) != 'nan']).max()+10\n",
    "down = np.array([x for x in xcoord if str(x) != 'nan']+[x for x in ycoord if str(x) != 'nan']).min()-10"
   ]
  },
  {
   "cell_type": "code",
   "execution_count": 10,
   "metadata": {},
   "outputs": [],
   "source": [
    "app = dash.Dash()\n",
    "\n",
    "app.layout = html.Div([\n",
    "    html.H1('Aufteilung der Kredite in SDGs'),\n",
    "    dcc.Graph(id = 'figure1',\n",
    "            figure= {'data': traces,\n",
    "                     'layout': go.Layout(title='KfW SDG contribution - new commitment volume year 2018',\n",
    "                                xaxis={'range': [down, up], 'domain': [0, 1], 'title':\"\", 'showgrid': False, 'zeroline':False, 'showticklabels': False},\n",
    "                                yaxis={'range': [down, up], 'domain': [0, 1], 'title':\"\", 'showgrid': False, 'zeroline':False, 'showticklabels': False},                                  showlegend=False, width=800, height=800, \n",
    "                                template=None),\n",
    "                     'shape': dict( type=\"circle\",\n",
    "                                    x0= ( - adjust),\n",
    "                                    y0= ( - adjust),\n",
    "                                    x1= ( adjust),\n",
    "                                    y1= ( adjust),\n",
    "                                    fillcolor= \"white\",\n",
    "                                    line=dict(color=\"black\", width=2),\n",
    "                                    xref='x', yref='y')          \n",
    "                    } \n",
    "            )\n",
    "])"
   ]
  },
  {
   "cell_type": "code",
   "execution_count": 12,
   "metadata": {},
   "outputs": [
    {
     "name": "stdout",
     "output_type": "stream",
     "text": [
      " * Serving Flask app \"__main__\" (lazy loading)\n",
      " * Environment: production\n",
      "   WARNING: This is a development server. Do not use it in a production deployment.\n",
      "   Use a production WSGI server instead.\n",
      " * Debug mode: off\n"
     ]
    },
    {
     "name": "stderr",
     "output_type": "stream",
     "text": [
      " * Running on http://127.0.0.1:8050/ (Press CTRL+C to quit)\n",
      "127.0.0.1 - - [03/Apr/2020 12:43:03] \"\u001b[37mGET / HTTP/1.1\u001b[0m\" 200 -\n",
      "127.0.0.1 - - [03/Apr/2020 12:43:03] \"\u001b[37mGET /_dash-dependencies HTTP/1.1\u001b[0m\" 200 -\n",
      "127.0.0.1 - - [03/Apr/2020 12:43:04] \"\u001b[37mGET /_dash-layout HTTP/1.1\u001b[0m\" 200 -\n",
      "127.0.0.1 - - [03/Apr/2020 12:43:04] \"\u001b[37mGET /_favicon.ico?v=1.9.1 HTTP/1.1\u001b[0m\" 200 -\n"
     ]
    }
   ],
   "source": [
    "if __name__ == '__main__':\n",
    "    app.run_server()"
   ]
  },
  {
   "cell_type": "code",
   "execution_count": null,
   "metadata": {},
   "outputs": [],
   "source": []
  }
 ],
 "metadata": {
  "kernelspec": {
   "display_name": "Python 3",
   "language": "python",
   "name": "python3"
  },
  "language_info": {
   "codemirror_mode": {
    "name": "ipython",
    "version": 3
   },
   "file_extension": ".py",
   "mimetype": "text/x-python",
   "name": "python",
   "nbconvert_exporter": "python",
   "pygments_lexer": "ipython3",
   "version": "3.6.10"
  }
 },
 "nbformat": 4,
 "nbformat_minor": 4
}
