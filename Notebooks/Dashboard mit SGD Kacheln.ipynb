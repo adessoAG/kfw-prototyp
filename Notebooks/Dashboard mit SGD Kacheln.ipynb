{
 "cells": [
  {
   "cell_type": "markdown",
   "metadata": {},
   "source": [
    "# Dashboard mit SGD Kacheln"
   ]
  },
  {
   "cell_type": "code",
   "execution_count": 7,
   "metadata": {},
   "outputs": [],
   "source": [
    "import dash\n",
    "import dash_core_components as dcc\n",
    "import dash_html_components as html\n",
    "from dash.dependencies import Input, Output\n",
    "import pandas as pd\n",
    "import os\n",
    "import base64"
   ]
  },
  {
   "cell_type": "code",
   "execution_count": 29,
   "metadata": {},
   "outputs": [],
   "source": [
    "app = dash.Dash()"
   ]
  },
  {
   "cell_type": "code",
   "execution_count": 30,
   "metadata": {},
   "outputs": [],
   "source": [
    "path = 'C:/Users/dfrik/Documents/Projekte/KfW/KfW/kfw-prototyp/Images/SDG Kacheln_english/'\n",
    "filenames = os.listdir(path)"
   ]
  },
  {
   "cell_type": "code",
   "execution_count": 33,
   "metadata": {},
   "outputs": [
    {
     "name": "stdout",
     "output_type": "stream",
     "text": [
      "['SDG_10_eng.png', 'SDG_11_eng.png', 'SDG_12_eng.png', 'SDG_13_eng.jpg', 'SDG_14_eng.png', 'SDG_15_eng.png', 'SDG_16_eng.png', 'SDG_17_eng.png', 'SDG_1_eng.png', 'SDG_2_eng.png', 'SDG_3_eng.png', 'SDG_4_eng.png', 'SDG_5_eng.png', 'SDG_6_eng.png', 'SDG_7_eng.png', 'SDG_8_eng.png', 'SDG_9_eng.jpg']\n"
     ]
    }
   ],
   "source": [
    "print(filenames)"
   ]
  },
  {
   "cell_type": "code",
   "execution_count": 34,
   "metadata": {},
   "outputs": [],
   "source": [
    "files = filenames[8:]+filenames[:8]"
   ]
  },
  {
   "cell_type": "code",
   "execution_count": 35,
   "metadata": {},
   "outputs": [
    {
     "name": "stdout",
     "output_type": "stream",
     "text": [
      "['SDG_1_eng.png', 'SDG_2_eng.png', 'SDG_3_eng.png', 'SDG_4_eng.png', 'SDG_5_eng.png', 'SDG_6_eng.png', 'SDG_7_eng.png', 'SDG_8_eng.png', 'SDG_9_eng.jpg', 'SDG_10_eng.png', 'SDG_11_eng.png', 'SDG_12_eng.png', 'SDG_13_eng.jpg', 'SDG_14_eng.png', 'SDG_15_eng.png', 'SDG_16_eng.png', 'SDG_17_eng.png']\n"
     ]
    }
   ],
   "source": [
    "print(files)"
   ]
  },
  {
   "cell_type": "code",
   "execution_count": 15,
   "metadata": {},
   "outputs": [],
   "source": [
    "def encode_image(image_file):\n",
    "    encoded = base64.b64encode(open(image_file, 'rb').read())\n",
    "    return 'data:image/png;base64,{}'.format(encoded.decode())"
   ]
  },
  {
   "cell_type": "code",
   "execution_count": 97,
   "metadata": {},
   "outputs": [],
   "source": [
    "h=60\n",
    "m=2\n",
    "app.layout = html.Div([\n",
    "    html.Div([\n",
    "        html.Img(id='display-image', src=encode_image(path+files[0]), height=h,\n",
    "            style={\n",
    "           #'border': '2px white solid',\n",
    "           #'borderRaudius':5,\n",
    "           'margin':m\n",
    "            }\n",
    "            ),\n",
    "        html.Img(id='display-image2', src=encode_image(path+files[1]), height=h,\n",
    "            style={\n",
    "           #'border': '2px white solid',\n",
    "           #'borderRaudius':5,\n",
    "           'margin':m\n",
    "            }\n",
    "            ),\n",
    "        html.Img(id='display-image3', src=encode_image(path+files[2]), height=h,\n",
    "            style={\n",
    "           #'border': '2px white solid',\n",
    "           #'borderRaudius':5,\n",
    "           'margin':m\n",
    "            }\n",
    "            ),\n",
    "        html.Img(id='display-image4', src=encode_image(path+files[3]), height=h,\n",
    "            style={\n",
    "           #'border': '2px white solid',\n",
    "           #'borderRaudius':5,\n",
    "           'margin':m\n",
    "            }\n",
    "            ),\n",
    "        html.Img(id='display-image5', src=encode_image(path+files[4]), height=h,\n",
    "            style={\n",
    "           #'border': '2px white solid',\n",
    "           #'borderRaudius':5,\n",
    "           'margin':m\n",
    "            }\n",
    "            ),\n",
    "        html.Img(id='display-image6', src=encode_image(path+files[5]), height=h,\n",
    "            style={\n",
    "           #'border': '2px white solid',\n",
    "           #'borderRaudius':5,\n",
    "           'margin':m\n",
    "            }\n",
    "            ),\n",
    "        html.Img(id='display-image7', src=encode_image(path+files[6]), height=h,\n",
    "            style={\n",
    "           #'border': '2px white solid',\n",
    "           #'borderRaudius':5,\n",
    "           'margin':m\n",
    "            }\n",
    "            ),\n",
    "        html.Img(id='display-image8', src=encode_image(path+files[7]), height=h,\n",
    "            style={\n",
    "           #'border': '2px white solid',\n",
    "           #'borderRaudius':5,\n",
    "           'margin':m\n",
    "            }\n",
    "            ),\n",
    "        html.Img(id='display-image9', src=encode_image(path+files[8]), height=h,\n",
    "            style={\n",
    "           #'border': '2px white solid',\n",
    "           #'borderRaudius':5,\n",
    "           'margin':m\n",
    "            }\n",
    "            ),\n",
    "        html.Img(id='display-image10', src=encode_image(path+files[9]), height=h,\n",
    "            style={\n",
    "           #'border': '2px white solid',\n",
    "           #'borderRaudius':5,\n",
    "           'margin':m\n",
    "            }\n",
    "            ),\n",
    "        html.Img(id='display-image11', src=encode_image(path+files[10]), height=h,\n",
    "            style={\n",
    "           #'border': '2px white solid',\n",
    "           #'borderRaudius':5,\n",
    "           'margin':m\n",
    "            }\n",
    "            ),\n",
    "        html.Img(id='display-image12', src=encode_image(path+files[11]), height=h,\n",
    "            style={\n",
    "           #'border': '2px white solid',\n",
    "           #'borderRaudius':5,\n",
    "           'margin':m\n",
    "            }\n",
    "            ),\n",
    "        html.Img(id='display-image13', src=encode_image(path+files[12]), height=h,\n",
    "           style={\n",
    "           #'border': '2px white solid',\n",
    "           #'borderRaudius':5,\n",
    "           'margin':m\n",
    "            }\n",
    "            ),\n",
    "        html.Img(id='display-image14', src=encode_image(path+files[13]), height=h,\n",
    "           style={\n",
    "           #'border': '2px white solid',\n",
    "           #'borderRaudius':5,\n",
    "           'margin':m\n",
    "            }\n",
    "            ),\n",
    "        html.Img(id='display-image15', src=encode_image(path+files[14]), height=h,\n",
    "            style={\n",
    "           #'border': '2px white solid',\n",
    "           #'borderRaudius':5,\n",
    "           'margin':m\n",
    "            }\n",
    "            ),\n",
    "        html.Img(id='display-image16', src=encode_image(path+files[15]), height=h,\n",
    "           style={\n",
    "           #'border': '2px white solid',\n",
    "           #'borderRaudius':5,\n",
    "           'margin':m\n",
    "            }\n",
    "            ),\n",
    "        html.Img(id='display-image17', src=encode_image(path+files[16]), height=h,\n",
    "           style={\n",
    "           #'border': '2px white solid',\n",
    "           #'borderRaudius':5,\n",
    "           'margin':m\n",
    "            }\n",
    "            ),\n",
    "        \n",
    "    ]),\n",
    "    html.Div([\n",
    "        html.Pre(id='hover-data', style={'paddingTop': 5})\n",
    "    ])\n",
    "    \n",
    "    \n",
    "    \n",
    "])"
   ]
  },
  {
   "cell_type": "code",
   "execution_count": null,
   "metadata": {},
   "outputs": [],
   "source": [
    "@app.callback(\n",
    "\n",
    ")"
   ]
  },
  {
   "cell_type": "code",
   "execution_count": null,
   "metadata": {},
   "outputs": [],
   "source": [
    "def callback_text(hoverData):\n",
    "    "
   ]
  },
  {
   "cell_type": "code",
   "execution_count": 92,
   "metadata": {},
   "outputs": [
    {
     "name": "stdout",
     "output_type": "stream",
     "text": [
      " * Serving Flask app \"__main__\" (lazy loading)\n",
      " * Environment: production\n",
      "   WARNING: This is a development server. Do not use it in a production deployment.\n",
      "   Use a production WSGI server instead.\n",
      " * Debug mode: off\n"
     ]
    },
    {
     "name": "stderr",
     "output_type": "stream",
     "text": [
      " * Running on http://127.0.0.1:8050/ (Press CTRL+C to quit)\n",
      "127.0.0.1 - - [02/Apr/2020 17:20:24] \"\u001b[37mGET / HTTP/1.1\u001b[0m\" 200 -\n",
      "127.0.0.1 - - [02/Apr/2020 17:20:24] \"\u001b[37mGET /_dash-dependencies HTTP/1.1\u001b[0m\" 200 -\n",
      "127.0.0.1 - - [02/Apr/2020 17:20:24] \"\u001b[37mGET /_dash-layout HTTP/1.1\u001b[0m\" 200 -\n",
      "127.0.0.1 - - [02/Apr/2020 17:20:32] \"\u001b[37mGET / HTTP/1.1\u001b[0m\" 200 -\n",
      "127.0.0.1 - - [02/Apr/2020 17:20:33] \"\u001b[37mGET /_dash-dependencies HTTP/1.1\u001b[0m\" 200 -\n",
      "127.0.0.1 - - [02/Apr/2020 17:20:33] \"\u001b[37mGET /_dash-layout HTTP/1.1\u001b[0m\" 200 -\n"
     ]
    }
   ],
   "source": [
    "if __name__ == '__main__':\n",
    "    app.run_server()\n"
   ]
  },
  {
   "cell_type": "code",
   "execution_count": null,
   "metadata": {},
   "outputs": [],
   "source": []
  }
 ],
 "metadata": {
  "kernelspec": {
   "display_name": "kfw",
   "language": "python",
   "name": "kfw"
  },
  "language_info": {
   "codemirror_mode": {
    "name": "ipython",
    "version": 3
   },
   "file_extension": ".py",
   "mimetype": "text/x-python",
   "name": "python",
   "nbconvert_exporter": "python",
   "pygments_lexer": "ipython3",
   "version": "3.6.10"
  }
 },
 "nbformat": 4,
 "nbformat_minor": 4
}
