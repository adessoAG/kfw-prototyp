{
 "cells": [
  {
   "cell_type": "markdown",
   "metadata": {},
   "source": [
    "Required libraries"
   ]
  },
  {
   "cell_type": "code",
   "execution_count": null,
   "metadata": {},
   "outputs": [],
   "source": [
    "import dash\n",
    "import dash_core_components as dcc\n",
    "import dash_html_components as html"
   ]
  },
  {
   "cell_type": "code",
   "execution_count": null,
   "metadata": {},
   "outputs": [],
   "source": [
    "app = dash.Dash()\n",
    "app.layout = html.Div([\n",
    "    html.H1('Vergleich'),\n",
    "    html.Div([\n",
    "        dcc.Dropdown( \n",
    "            options=[\n",
    "                {'label': 'SDG1: NO POVERTY', 'value': 'SDG_1'}, \n",
    "                {'label': 'SDG2: ZERO HUNGER', 'value': 'SDG_2'}, \n",
    "                {'label': 'SDG3: GOOD HEALT AND WELL-BEING', 'value': 'SDG_3'}, \n",
    "                {'label': 'SDG4: QUALITY EDUCATION', 'value': 'SDG_4'}, \n",
    "                {'label': 'SDG5: GENDER EQUALITY', 'value': 'SDG_5'}, \n",
    "                {'label': 'SDG6: CLEAN WATER AND SANITATION', 'value': 'SDG_6'}, \n",
    "                {'label': 'SDG7: AFFORDABLE AND CLEAN ENERGY', 'value': 'SDG_7'}, \n",
    "                {'label': 'SDG8: DECENT WORK AND ECONOMIC GROWTH', 'value': 'SDG_8'}, \n",
    "                {'label': 'SDG9: INDUSTRY, INNOVATION AND INFRASTRUCTURE', 'value': 'SDG_9'}, \n",
    "                {'label': 'SDG10: REDUCED INEQUALITIES', 'value': 'SDG_10'}, \n",
    "                {'label': 'SDG11: SUSTAINABLE CITIES AND COMMUNITIES', 'value': 'SDG_11'}, \n",
    "                {'label': 'SDG12: RESPONSIBLE CONSUMPTION AND PRODUCTION', 'value': 'SDG_12'}, \n",
    "                {'label': 'SDG13: CLIMATE ACTION', 'value': 'SDG_13'}, \n",
    "                {'label': 'SDG14: LIFE BELOW WATER', 'value': 'SDG_14'},\n",
    "                {'label': 'SDG15: LIFE ON LAND', 'value': 'SDG_15'}, \n",
    "                {'label': 'SDG16: PEACE, JUSTICE AND STRONG INSTITUTIONS', 'value': 'SDG_16'}, \n",
    "                {'label': 'SDG17: PARTNERSHIP FOR THE GOALS', 'value': 'SDG_17'}\n",
    "            ], \n",
    "            value = ['SDG_1', 'SDG_2'],\n",
    "            multi = True\n",
    "        )\n",
    "    ])\n",
    "])\n"
   ]
  },
  {
   "cell_type": "code",
   "execution_count": null,
   "metadata": {},
   "outputs": [],
   "source": [
    "if __name__ == \"__main__\": \n",
    "    app.run_server()"
   ]
  },
  {
   "cell_type": "code",
   "execution_count": null,
   "metadata": {},
   "outputs": [],
   "source": []
  },
  {
   "cell_type": "code",
   "execution_count": null,
   "metadata": {},
   "outputs": [],
   "source": []
  },
  {
   "cell_type": "code",
   "execution_count": null,
   "metadata": {},
   "outputs": [],
   "source": []
  },
  {
   "cell_type": "code",
   "execution_count": null,
   "metadata": {},
   "outputs": [],
   "source": []
  },
  {
   "cell_type": "code",
   "execution_count": null,
   "metadata": {},
   "outputs": [],
   "source": []
  }
 ],
 "metadata": {
  "file_extension": ".py",
  "kernelspec": {
   "display_name": "Python 3.6.10 64-bit ('Angelina_KfW': conda)",
   "language": "python",
   "name": "python361064bitangelinakfwconda216ff3f2082c4a10acfa7e3ea10051c8"
  },
  "language_info": {
   "codemirror_mode": {
    "name": "ipython",
    "version": 3
   },
   "file_extension": ".py",
   "mimetype": "text/x-python",
   "name": "python",
   "nbconvert_exporter": "python",
   "pygments_lexer": "ipython3",
   "version": "3.6.10"
  },
  "mimetype": "text/x-python",
  "name": "python",
  "npconvert_exporter": "python",
  "pygments_lexer": "ipython3",
  "version": 3
 },
 "nbformat": 4,
 "nbformat_minor": 2
}
